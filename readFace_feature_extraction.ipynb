{
 "cells": [
  {
   "cell_type": "code",
   "execution_count": 1,
   "metadata": {},
   "outputs": [
    {
     "name": "stderr",
     "output_type": "stream",
     "text": [
      "Using TensorFlow backend.\n",
      "WARNING: Logging before flag parsing goes to stderr.\n",
      "W0506 17:42:45.112956 18108 deprecation_wrapper.py:119] From C:\\Users\\Gachon\\Anaconda3\\lib\\site-packages\\keras\\backend\\tensorflow_backend.py:517: The name tf.placeholder is deprecated. Please use tf.compat.v1.placeholder instead.\n",
      "\n",
      "W0506 17:42:45.128908 18108 deprecation_wrapper.py:119] From C:\\Users\\Gachon\\Anaconda3\\lib\\site-packages\\keras\\backend\\tensorflow_backend.py:4138: The name tf.random_uniform is deprecated. Please use tf.random.uniform instead.\n",
      "\n",
      "W0506 17:42:45.144822 18108 deprecation_wrapper.py:119] From C:\\Users\\Gachon\\Anaconda3\\lib\\site-packages\\keras\\backend\\tensorflow_backend.py:3976: The name tf.nn.max_pool is deprecated. Please use tf.nn.max_pool2d instead.\n",
      "\n",
      "W0506 17:42:45.334373 18108 deprecation_wrapper.py:119] From C:\\Users\\Gachon\\Anaconda3\\lib\\site-packages\\keras\\backend\\tensorflow_backend.py:174: The name tf.get_default_session is deprecated. Please use tf.compat.v1.get_default_session instead.\n",
      "\n",
      "W0506 17:42:45.335370 18108 deprecation_wrapper.py:119] From C:\\Users\\Gachon\\Anaconda3\\lib\\site-packages\\keras\\backend\\tensorflow_backend.py:181: The name tf.ConfigProto is deprecated. Please use tf.compat.v1.ConfigProto instead.\n",
      "\n",
      "W0506 17:42:45.335370 18108 deprecation_wrapper.py:119] From C:\\Users\\Gachon\\Anaconda3\\lib\\site-packages\\keras\\backend\\tensorflow_backend.py:186: The name tf.Session is deprecated. Please use tf.compat.v1.Session instead.\n",
      "\n",
      "W0506 17:42:45.632574 18108 deprecation_wrapper.py:119] From C:\\Users\\Gachon\\Anaconda3\\lib\\site-packages\\keras\\optimizers.py:790: The name tf.train.Optimizer is deprecated. Please use tf.compat.v1.train.Optimizer instead.\n",
      "\n",
      "W0506 17:42:45.694352 18108 deprecation.py:323] From C:\\Users\\Gachon\\Anaconda3\\lib\\site-packages\\tensorflow\\python\\ops\\math_grad.py:1250: add_dispatch_support.<locals>.wrapper (from tensorflow.python.ops.array_ops) is deprecated and will be removed in a future version.\n",
      "Instructions for updating:\n",
      "Use tf.where in 2.0, which has the same broadcast rule as np.where\n"
     ]
    }
   ],
   "source": [
    "from keras.models import load_model, Model\n",
    "from keras.preprocessing import image\n",
    "from keras import models\n",
    "import numpy as np\n",
    "import pandas as pd\n",
    "import os\n",
    "\n",
    "acc = '91.0'\n",
    "\n",
    "model = load_model('F:\\\\얼굴표정\\\\2.model_save\\\\face_model_' + acc + '.h5')\n",
    "\n",
    "flatten = model.get_layer('flatten')\n",
    "test_model = Model(inputs=model.input, outputs=flatten.output)"
   ]
  },
  {
   "cell_type": "code",
   "execution_count": 3,
   "metadata": {},
   "outputs": [],
   "source": [
    "abnormal_img_dir = 'F:\\\\얼굴표정\\\\1.datasets\\\\total\\\\sad'\n",
    "normal_img_dir = 'F:\\\\얼굴표정\\\\1.datasets\\\\total\\\\happy'\n",
    "\n",
    "abnormal_img = []\n",
    "for img_name in os.listdir(abnormal_img_dir):\n",
    "    img_path = os.path.join(abnormal_img_dir, img_name)\n",
    "    img = image.load_img(img_path, target_size=(150, 150))\n",
    "    img_tensor = image.img_to_array(img)\n",
    "    img_tensor = np.expand_dims(img_tensor, axis=0)\n",
    "    img_tensor /= 255.\n",
    "    abnormal_img.append(img_tensor)\n",
    "    \n",
    "normal_img = []\n",
    "for img_name in os.listdir(normal_img_dir):\n",
    "    img_path = os.path.join(normal_img_dir, img_name)\n",
    "    img = image.load_img(img_path, target_size=(150, 150))\n",
    "    img_tensor = image.img_to_array(img)\n",
    "    img_tensor = np.expand_dims(img_tensor, axis=0)\n",
    "    img_tensor /= 255.\n",
    "    normal_img.append(img_tensor)\n",
    "    \n",
    "abnormal_labels = np.ones(len(abnormal_img))\n",
    "normal_labels = np.zeros(len(normal_img))\n",
    "total_labels = np.concatenate((abnormal_labels, normal_labels), axis=0)"
   ]
  },
  {
   "cell_type": "code",
   "execution_count": 4,
   "metadata": {},
   "outputs": [
    {
     "name": "stdout",
     "output_type": "stream",
     "text": [
      "3890\n"
     ]
    }
   ],
   "source": [
    "img_features = []\n",
    "for img in abnormal_img:\n",
    "    img_features.append(test_model.predict(img)[0])\n",
    "    \n",
    "for img in normal_img:\n",
    "    img_features.append(test_model.predict(img)[0])\n",
    "    \n",
    "print(len(img_features))"
   ]
  },
  {
   "cell_type": "code",
   "execution_count": null,
   "metadata": {},
   "outputs": [],
   "source": [
    "# length of image features\n",
    "print(len(img_features[0]))\n",
    "\n",
    "# Dataset + Label\n",
    "feature_set = []\n",
    "for i in range(len(total_labels)):\n",
    "    temp = np.append(img_features[i], total_labels[i])\n",
    "    feature_set.append(temp)\n",
    "\n",
    "# Feature column name\n",
    "features_column = []\n",
    "for i in range(len(img_features[0])):\n",
    "    features_column.append('img_f' + str(i))\n",
    "\n",
    "features_column.append('AA')\n",
    "\n",
    "df = pd.DataFrame(feature_set, columns = features_column)\n",
    "df.to_csv(\"E:\\\\Heartsound_VGG16\\\\Heartsound_VGG16_features\\\\img_features_\" + acc + \".csv\", index=False)"
   ]
  }
 ],
 "metadata": {
  "kernelspec": {
   "display_name": "Python 3",
   "language": "python",
   "name": "python3"
  },
  "language_info": {
   "codemirror_mode": {
    "name": "ipython",
    "version": 3
   },
   "file_extension": ".py",
   "mimetype": "text/x-python",
   "name": "python",
   "nbconvert_exporter": "python",
   "pygments_lexer": "ipython3",
   "version": "3.6.5"
  }
 },
 "nbformat": 4,
 "nbformat_minor": 2
}
